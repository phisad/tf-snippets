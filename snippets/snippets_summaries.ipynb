{
 "cells": [
  {
   "cell_type": "code",
   "execution_count": null,
   "metadata": {
    "collapsed": true
   },
   "outputs": [],
   "source": [
    "# Accuracy for current batch, given one-hot encoded labels\n",
    "batch_size = 256\n",
    "with tf.name_scope(\"accuracy\"):\n",
    "    predictions = tf.argmax(outputs, 1)\n",
    "    sparse_labels = tf.argmax(labels, 1)\n",
    "    accuracy = tf.reduce_sum(tf.cast(tf.equal(predictions, sparse_labels), tf.int64)) / batch_size\n",
    "    tf.summary.scalar(\"accuracy\", accuracy)"
   ]
  },
  {
   "cell_type": "code",
   "execution_count": null,
   "metadata": {
    "collapsed": true
   },
   "outputs": [],
   "source": [
    "# Images of kernels in layer (for 1-channel greyscale)\n",
    "input_dim = 28\n",
    "layer_size = 100\n",
    "with tf.name_scope(\"kernels\"):\n",
    "    kernels = tf.reshape(weights, (input_dim, input_dim, layer_size))\n",
    "    kernels = tf.transpose(kernels, perm=[2, 0, 1])\n",
    "    kernels = tf.expand_dims(kernels, axis=-1)\n",
    "    tf.summary.image(\"weights\", kernels, max_outputs=6)"
   ]
  },
  {
   "cell_type": "code",
   "execution_count": null,
   "metadata": {
    "collapsed": true
   },
   "outputs": [],
   "source": [
    "# Images of activations in layer (for 1-channel greyscale)\n",
    "batch_size = 256\n",
    "layer_size_sqr = 10\n",
    "with tf.name_scope(\"activations\"):\n",
    "    tf.summary.image(\"activations\", tf.reshape(layer, (batch_size, layer_size_sqr, layer_size_sqr, 1)), max_outputs=6)"
   ]
  }
 ],
 "metadata": {
  "kernelspec": {
   "display_name": "Python [conda env:tf]",
   "language": "python",
   "name": "conda-env-tf-py"
  },
  "language_info": {
   "codemirror_mode": {
    "name": "ipython",
    "version": 3
   },
   "file_extension": ".py",
   "mimetype": "text/x-python",
   "name": "python",
   "nbconvert_exporter": "python",
   "pygments_lexer": "ipython3",
   "version": "3.6.4"
  }
 },
 "nbformat": 4,
 "nbformat_minor": 2
}
