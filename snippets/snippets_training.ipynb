{
 "cells": [
  {
   "cell_type": "code",
   "execution_count": null,
   "metadata": {
    "collapsed": true
   },
   "outputs": [],
   "source": [
    "# Training loop with summaries\n",
    "with tf.name_scope(\"train\"):\n",
    "    train_op = tf.train.AdamOptimizer().minimize(loss)\n",
    "    \n",
    "summary_op = tf.summary.merge_all()\n",
    "writer = tf.summary.FileWriter(logdir=\"log/\")\n",
    "total_steps = 1000\n",
    "with tf.Session() as sess:\n",
    "    sess.run(tf.global_variables_initializer())\n",
    "    writer.add_graph(sess.graph)\n",
    "    for step in range(total_steps):\n",
    "        summary, _ = sess.run([summary_op, train_op])     \n",
    "        writer.add_summary(summary, step)"
   ]
  }
 ],
 "metadata": {
  "kernelspec": {
   "display_name": "Python [conda env:tf]",
   "language": "python",
   "name": "conda-env-tf-py"
  },
  "language_info": {
   "codemirror_mode": {
    "name": "ipython",
    "version": 3
   },
   "file_extension": ".py",
   "mimetype": "text/x-python",
   "name": "python",
   "nbconvert_exporter": "python",
   "pygments_lexer": "ipython3",
   "version": "3.6.4"
  }
 },
 "nbformat": 4,
 "nbformat_minor": 2
}
