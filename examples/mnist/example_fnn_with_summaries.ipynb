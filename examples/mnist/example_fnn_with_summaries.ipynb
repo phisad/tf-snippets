{
 "cells": [
  {
   "cell_type": "code",
   "execution_count": null,
   "metadata": {
    "collapsed": true
   },
   "outputs": [],
   "source": [
    "import tensorflow as tf\n",
    "\n",
    "from tensorflow.examples.tutorials.mnist import input_data\n",
    "mnist = input_data.read_data_sets(\"MNIST_data/\", one_hot=True)"
   ]
  },
  {
   "cell_type": "code",
   "execution_count": null,
   "metadata": {
    "collapsed": true
   },
   "outputs": [],
   "source": [
    "tf.reset_default_graph()\n",
    "\n",
    "with tf.name_scope(\"inputs\"):\n",
    "    images, labels = mnist.train.next_batch(256)    \n",
    "    tf.summary.image(\"inputs\", tf.reshape(images, (256, 28, 28, 1)), max_outputs=6)\n",
    "\n",
    "with tf.variable_scope(\"model\"):\n",
    "    weights1 = tf.get_variable(\"weights1\", (784, 100))\n",
    "    layer1 = tf.nn.relu(images @ weights1)\n",
    "\n",
    "    weights2 = tf.get_variable(\"weights2\", (100, 100))\n",
    "    layer2 = tf.nn.relu(layer1 @ weights2)\n",
    "\n",
    "    weights3 = tf.get_variable(\"weights3\", (100, 10))\n",
    "    outputs = layer2 @ weights3\n",
    "\n",
    "with tf.name_scope(\"kernels\"):\n",
    "    kernels = tf.reshape(weights1, (28, 28, 100))\n",
    "    kernels = tf.transpose(kernels, perm=[2, 0, 1])\n",
    "    kernels = tf.expand_dims(kernels, axis=-1)\n",
    "    tf.summary.image(\"weights1\", kernels, max_outputs=6)\n",
    "\n",
    "with tf.name_scope(\"activations\"):\n",
    "    tf.summary.image(\"activations1\", tf.reshape(layer1, (256, 10, 10, 1)), max_outputs=6)\n",
    "    \n",
    "with tf.name_scope(\"accuracy\"):\n",
    "    predictions = tf.argmax(outputs, 1)\n",
    "    sparse_labels = tf.argmax(labels, 1)\n",
    "    accuracy = tf.reduce_sum(tf.cast(tf.equal(predictions, sparse_labels), tf.int64)) / 256\n",
    "    tf.summary.scalar(\"accuracy\", accuracy)\n",
    "\n",
    "with tf.name_scope(\"loss\"):\n",
    "    l2_loss = tf.nn.l2_loss(weights1) + 0.1 * tf.nn.l2_loss(weights2) + 0.01 * tf.nn.l2_loss(weights3)\n",
    "    loss = tf.losses.softmax_cross_entropy(labels, outputs) + l2_loss\n",
    "    tf.summary.scalar(\"loss\", loss)\n",
    "    \n",
    "with tf.name_scope(\"train\"):\n",
    "    train_op = tf.train.AdamOptimizer().minimize(loss)\n",
    "    \n",
    "summary_op = tf.summary.merge_all()\n",
    "\n",
    "writer = tf.summary.FileWriter(logdir=\"log/\")\n",
    "\n",
    "total_steps = 1000\n",
    "with tf.Session() as sess:\n",
    "    sess.run(tf.global_variables_initializer())\n",
    "    writer.add_graph(sess.graph)\n",
    "    for step in range(total_steps):\n",
    "        summary, _ = sess.run([summary_op, train_op])     \n",
    "        writer.add_summary(summary, step)"
   ]
  }
 ],
 "metadata": {
  "kernelspec": {
   "display_name": "Python [conda env:tf]",
   "language": "python",
   "name": "conda-env-tf-py"
  },
  "language_info": {
   "codemirror_mode": {
    "name": "ipython",
    "version": 3
   },
   "file_extension": ".py",
   "mimetype": "text/x-python",
   "name": "python",
   "nbconvert_exporter": "python",
   "pygments_lexer": "ipython3",
   "version": "3.6.4"
  }
 },
 "nbformat": 4,
 "nbformat_minor": 2
}
