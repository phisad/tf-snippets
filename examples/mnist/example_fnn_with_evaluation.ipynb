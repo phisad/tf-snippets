{
 "cells": [
  {
   "cell_type": "code",
   "execution_count": null,
   "metadata": {
    "collapsed": true
   },
   "outputs": [],
   "source": [
    "import tensorflow as tf\n",
    "\n",
    "from tensorflow.examples.tutorials.mnist import input_data\n",
    "mnist = input_data.read_data_sets(\"MNIST_data/\", one_hot=True)"
   ]
  },
  {
   "cell_type": "code",
   "execution_count": null,
   "metadata": {
    "collapsed": true
   },
   "outputs": [],
   "source": [
    "tf.reset_default_graph()\n",
    "\n",
    "images = tf.placeholder(tf.float32, (None, 784))\n",
    "labels = tf.placeholder(tf.int64, (None, 10))\n",
    "\n",
    "weights1 = tf.get_variable(\"weights1\", (784, 100))\n",
    "layer1 = tf.nn.relu(images @ weights1)\n",
    "\n",
    "weights2 = tf.get_variable(\"weights2\", (100, 100))\n",
    "layer2 = tf.nn.relu(layer1 @ weights2)\n",
    "\n",
    "weights3 = tf.get_variable(\"weights3\", (100, 10))\n",
    "outputs = layer2 @ weights3\n",
    "\n",
    "predictions = tf.argmax(outputs, 1)\n",
    "sparse_labels = tf.argmax(labels, 1)\n",
    "correct_count_op = tf.reduce_sum(tf.cast(tf.equal(predictions, sparse_labels), tf.int64))\n",
    "\n",
    "total_count_correct = tf.Variable(0, name=\"total_count_correct\", dtype=tf.int64)\n",
    "total_count_op = tf.assign_add(total_count_correct, correct_count_op)\n",
    "\n",
    "loss = tf.losses.softmax_cross_entropy(labels, outputs)\n",
    "\n",
    "train_op = tf.train.AdamOptimizer().minimize(loss)\n",
    "\n",
    "total_steps = 100\n",
    "with tf.Session() as sess:\n",
    "    sess.run(tf.global_variables_initializer())\n",
    "    for step in range(total_steps):\n",
    "        batch_images, batch_labels = mnist.train.next_batch(256)\n",
    "        _, correct_count = sess.run([train_op, correct_count_op], feed_dict={images: batch_images, labels: batch_labels})\n",
    "        print(\"Accuracy (training): {} ({}/256)\".format(correct_count/256, correct_count))\n",
    "\n",
    "    total_steps = 50\n",
    "    total_correct = 0\n",
    "    for step in range(total_steps):\n",
    "        sess.run(total_count_correct.initializer)\n",
    "        batch_images, batch_labels = mnist.validation.next_batch(100)\n",
    "        total_correct = total_correct + sess.run(total_count_op, feed_dict={images: batch_images, labels: batch_labels}) \n",
    "        \n",
    "    print(\"Accuracy (validation): {} ({}/5000)\".format(total_correct/5000, total_correct))"
   ]
  }
 ],
 "metadata": {
  "kernelspec": {
   "display_name": "Python [conda env:tf]",
   "language": "python",
   "name": "conda-env-tf-py"
  },
  "language_info": {
   "codemirror_mode": {
    "name": "ipython",
    "version": 3
   },
   "file_extension": ".py",
   "mimetype": "text/x-python",
   "name": "python",
   "nbconvert_exporter": "python",
   "pygments_lexer": "ipython3",
   "version": "3.6.4"
  }
 },
 "nbformat": 4,
 "nbformat_minor": 2
}
