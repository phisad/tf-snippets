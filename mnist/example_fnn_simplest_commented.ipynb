{
 "cells": [
  {
   "cell_type": "code",
   "execution_count": null,
   "metadata": {
    "collapsed": true
   },
   "outputs": [],
   "source": [
    "import tensorflow as tf\n",
    "\n",
    "# There is a dataset with training and validation split prepared\n",
    "# The dataset consists of images of hand-written digits\n",
    "from tensorflow.examples.tutorials.mnist import input_data\n",
    "\n",
    "# The read_data_sets operation will download the dataset to the given folder.\n",
    "# The one_hot boolean marks that labels are one-hot encoded. One-hot encoded means, \n",
    "# that the class is presented as an index of a list of ones and zeros. For example, \n",
    "# when the true label is 3 of 10 classes then the one-hot encoding is\n",
    "#  0  1  2  3  4  5  6  7  8  9\n",
    "# [0, 0, 0, 1, 0, 0, 0, 0, 0, 0]\n",
    "mnist = input_data.read_data_sets(\"MNIST_data/\", one_hot=True)"
   ]
  },
  {
   "cell_type": "code",
   "execution_count": null,
   "metadata": {
    "collapsed": true
   },
   "outputs": [],
   "source": [
    "# The reset operation is always useful, so that the cell can be executed several times\n",
    "# Otherwise an error will be thrown that variables already exists within the graph\n",
    "tf.reset_default_graph()\n",
    "\n",
    "# next_batch(N) returns N examples as tuples of (image, label)\n",
    "# per default the examples are shuffled. \n",
    "# here the training split mnist.train is referenced\n",
    "# N is also called the batch-size\n",
    "images, labels = mnist.train.next_batch(256)\n",
    "\n",
    "# the input images are of dimensions 28x28 = 784\n",
    "# so the first layer has 784 connections to each neuron\n",
    "# here the number of neurons is set to 100 for the first layer\n",
    "weights1 = tf.get_variable(\"weights1\", (784, 100))\n",
    "# 256 x 100 = 256 x 784 @ 784 x 100\n",
    "layer1 = tf.nn.relu(images @ weights1)\n",
    "\n",
    "# the first layer has 100 neurons, so there are 100 connection to each neuron\n",
    "# of the second layer.  here the number of neurons is set to 100 for the second layer\n",
    "weights2 = tf.get_variable(\"weights2\", (100, 100))\n",
    "# 256 x 100 = 256 x 100 @ 100 x 100\n",
    "layer2 = tf.nn.relu(layer1 @ weights2)\n",
    "\n",
    "# the second layer has 100 neurons, so there are 100 connection to each neuron\n",
    "# of the third layer. here the number of neurons is set to 100 for the second layer\n",
    "weights3 = tf.get_variable(\"weights3\", (100, 10))\n",
    "# here no activation is applied, because the loss function is applying softmax\n",
    "# 256 x 10 = 256 x 100 @ 100 x 10\n",
    "outputs = layer2 @ weights3\n",
    "\n",
    "# the loss function wants only the logits (linear outputs) of the last layer\n",
    "loss = tf.losses.softmax_cross_entropy(labels, outputs)\n",
    "\n",
    "# the optimizer handles all the work for training\n",
    "train_op = tf.train.AdamOptimizer().minimize(loss)\n",
    "\n",
    "# we wanna run 100 steps of training (gradient updates for our weights)\n",
    "total_steps = 100\n",
    "# above we only constructed the graph\n",
    "# the computional graph has to be executed in a session\n",
    "with tf.Session() as sess:\n",
    "    # the variables always must be initialized\n",
    "    # a common initializer is random_uniform\n",
    "    # this is also important for symmetry breaking\n",
    "    sess.run(tf.global_variables_initializer())\n",
    "    # perform the actual training steps\n",
    "    for step in range(total_steps):\n",
    "        sess.run([train_op])"
   ]
  }
 ],
 "metadata": {
  "kernelspec": {
   "display_name": "Python [conda env:tf]",
   "language": "python",
   "name": "conda-env-tf-py"
  },
  "language_info": {
   "codemirror_mode": {
    "name": "ipython",
    "version": 3
   },
   "file_extension": ".py",
   "mimetype": "text/x-python",
   "name": "python",
   "nbconvert_exporter": "python",
   "pygments_lexer": "ipython3",
   "version": "3.6.4"
  }
 },
 "nbformat": 4,
 "nbformat_minor": 2
}
