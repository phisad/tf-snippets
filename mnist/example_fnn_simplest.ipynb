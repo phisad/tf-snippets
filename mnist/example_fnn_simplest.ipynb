{
 "cells": [
  {
   "cell_type": "code",
   "execution_count": null,
   "metadata": {
    "collapsed": true
   },
   "outputs": [],
   "source": [
    "import tensorflow as tf\n",
    "\n",
    "from tensorflow.examples.tutorials.mnist import input_data\n",
    "mnist = input_data.read_data_sets(\"MNIST_data/\", one_hot=True)"
   ]
  },
  {
   "cell_type": "code",
   "execution_count": null,
   "metadata": {
    "collapsed": true
   },
   "outputs": [],
   "source": [
    "# Simplest straightforward solution without any evaluation\n",
    "tf.reset_default_graph()\n",
    "\n",
    "images, labels = mnist.train.next_batch(256)\n",
    "\n",
    "weights1 = tf.get_variable(\"weights1\", (784, 100))\n",
    "layer1 = tf.nn.relu(images @ weights1)\n",
    "\n",
    "weights2 = tf.get_variable(\"weights2\", (100, 100))\n",
    "layer2 = tf.nn.relu(layer1 @ weights2)\n",
    "\n",
    "weights3 = tf.get_variable(\"weights3\", (100, 10))\n",
    "outputs = layer2 @ weights3\n",
    "\n",
    "loss = tf.losses.softmax_cross_entropy(labels, outputs)\n",
    "\n",
    "train_op = tf.train.AdamOptimizer().minimize(loss)\n",
    "\n",
    "total_steps = 100\n",
    "with tf.Session() as sess:\n",
    "    sess.run(tf.global_variables_initializer())\n",
    "    for step in range(total_steps):\n",
    "        sess.run([train_op])"
   ]
  }
 ],
 "metadata": {
  "kernelspec": {
   "display_name": "Python [conda env:tf]",
   "language": "python",
   "name": "conda-env-tf-py"
  },
  "language_info": {
   "codemirror_mode": {
    "name": "ipython",
    "version": 3
   },
   "file_extension": ".py",
   "mimetype": "text/x-python",
   "name": "python",
   "nbconvert_exporter": "python",
   "pygments_lexer": "ipython3",
   "version": "3.6.4"
  }
 },
 "nbformat": 4,
 "nbformat_minor": 2
}
